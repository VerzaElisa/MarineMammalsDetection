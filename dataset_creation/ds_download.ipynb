{
 "cells": [
  {
   "cell_type": "code",
   "execution_count": null,
   "id": "816d41ef",
   "metadata": {},
   "outputs": [],
   "source": [
    "from selenium import webdriver\n",
    "from selenium.webdriver.support.ui import Select\n",
    "import pandas as pd\n",
    "import os\n",
    "import time\n",
    "from tqdm import tqdm\n",
    "import requests\n",
    "from pathlib import Path\n",
    "\n",
    "DOWNLOAD = True"
   ]
  },
  {
   "cell_type": "code",
   "execution_count": null,
   "id": "fe1c7c73",
   "metadata": {},
   "outputs": [],
   "source": [
    "driver = webdriver.Chrome()\n",
    "url = 'https://whoicf2.whoi.edu/science/B/whalesounds/fullCuts.cfm'\n",
    "driver.get(url)\n",
    "species_select = Select(driver.find_element(\"name\", \"getSpecies\"))\n",
    "species_options = species_select.options[1:]\n",
    "ds_path = 'dataset'\n",
    "md_path = 'metadata'\n",
    "\n",
    "if not os.path.exists(ds_path):\n",
    "    os.makedirs(ds_path)\n",
    "\n",
    "if not os.path.exists(md_path):\n",
    "    os.makedirs(md_path)"
   ]
  },
  {
   "cell_type": "code",
   "execution_count": null,
   "id": "9c5e8fbe",
   "metadata": {},
   "outputs": [],
   "source": [
    "# Funzione per ritornare una lista di elementi presenti in un tag select html\n",
    "def list_pages(web_elem, id):\n",
    "    elem_list = []\n",
    "    for i in range(len(web_elem)):\n",
    "        elem_select = Select(driver.find_element(\"name\", id))\n",
    "        elem_options = elem_select.options[1:]\n",
    "        option = elem_options[i]\n",
    "        elem_name = option.text.strip()\n",
    "        elem_list.append(elem_name)\n",
    "    return elem_list"
   ]
  },
  {
   "cell_type": "code",
   "execution_count": null,
   "id": "8814cc2b",
   "metadata": {},
   "outputs": [],
   "source": [
    "if DOWNLOAD:    \n",
    "    species_name = list_pages(species_options, \"getSpecies\")\n",
    "    print(f\"Trovate {len(species_name)} specie.\")\n",
    "    \n",
    "    for spec in species_name:\n",
    "        # Selezione della specie\n",
    "        print(f\"Elaborazione specie: {spec}\")\n",
    "        species_select = Select(driver.find_element(\"name\", \"getSpecies\"))\n",
    "        species_select.select_by_visible_text(spec)\n",
    "        time.sleep(1) \n",
    "        os.makedirs(spec, exist_ok=True)\n",
    "\n",
    "        # Creazione lista per gli anni relativi alla specie\n",
    "        year_select = Select(driver.find_element(\"name\", \"pickYear\"))\n",
    "        year_options = year_select.options[1:]\n",
    "        year_list = list_pages(year_options, \"pickYear\")\n",
    "        print(f\"Elaborazione anni per {spec}: {year_list}\")\n",
    "\n",
    "        for year in year_list:\n",
    "            # Selezione dell'anno\n",
    "            year_select = Select(driver.find_element(\"name\", \"pickYear\"))\n",
    "            year_select.select_by_visible_text(year)\n",
    "            time.sleep(2) \n",
    "\n",
    "            # Creazione della lista con i link per il download dei file\n",
    "            download_links = driver.find_elements(\"partial link text\", \"Download\")\n",
    "            print(f\"Anno {year}: trovati {len(download_links)} file.\")\n",
    "\n",
    "            # Download dei file\n",
    "            for link in tqdm(download_links, desc=\"Download\"):\n",
    "                file_url = link.get_attribute(\"href\")\n",
    "                file_name = file_url.split('/')[-1]\n",
    "                file_path = Path(ds_path, spec, file_name)\n",
    "\n",
    "                # Scarica il file\n",
    "                if os.path.exists(file_path):\n",
    "                    continue\n",
    "                response = requests.get(file_url)\n",
    "                with open(file_path, 'wb') as f:\n",
    "                    f.write(response.content)\n",
    "else:\n",
    "    print(\"Download disabilitato\")"
   ]
  },
  {
   "cell_type": "code",
   "execution_count": null,
   "id": "f482bda9",
   "metadata": {},
   "outputs": [],
   "source": [
    "# Conteggio dei file presenti per specie\n",
    "folder_list = []\n",
    "for folder in os.listdir(ds_path):\n",
    "    folder_path = Path(ds_path, folder)\n",
    "    if os.path.isdir(folder_path):\n",
    "        file_count = len([f for f in os.listdir(folder_path) if os.path.isfile(Path(folder_path, f))])\n",
    "        folder_list.append({'species': folder, 'file_count': file_count})\n",
    "\n",
    "df = pd.DataFrame(folder_list)\n",
    "df.to_csv(Path(md_path, 'species_count.csv'), index=False)"
   ]
  },
  {
   "cell_type": "code",
   "execution_count": null,
   "id": "ceb5e9f9",
   "metadata": {},
   "outputs": [],
   "source": [
    "# Stampa del numero totale di file audio\n",
    "species_df = pd.read_csv(Path(md_path,'species_count.csv'))\n",
    "tot_audio = species_df['file_count'].sum()\n",
    "print(f\"Totale file audio scaricati: {tot_audio}\")"
   ]
  }
 ],
 "metadata": {
  "kernelspec": {
   "display_name": ".scraping_venv",
   "language": "python",
   "name": "python3"
  },
  "language_info": {
   "codemirror_mode": {
    "name": "ipython",
    "version": 3
   },
   "file_extension": ".py",
   "mimetype": "text/x-python",
   "name": "python",
   "nbconvert_exporter": "python",
   "pygments_lexer": "ipython3",
   "version": "3.13.3"
  }
 },
 "nbformat": 4,
 "nbformat_minor": 5
}
