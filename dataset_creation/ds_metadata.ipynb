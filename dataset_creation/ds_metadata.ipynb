{
 "cells": [
  {
   "cell_type": "code",
   "execution_count": null,
   "id": "b51bd610",
   "metadata": {},
   "outputs": [],
   "source": [
    "from selenium import webdriver\n",
    "from selenium.webdriver.support.ui import Select\n",
    "import pandas as pd\n",
    "import os\n",
    "import time\n",
    "from tqdm import tqdm\n",
    "import requests\n",
    "from bs4 import BeautifulSoup\n",
    "from pathlib import Path"
   ]
  },
  {
   "cell_type": "code",
   "execution_count": null,
   "id": "be8a7cf8",
   "metadata": {},
   "outputs": [],
   "source": [
    "base_url = 'https://whoicf2.whoi.edu/science/B/whalesounds/metaData.cfm?RN='\n",
    "\n",
    "ds_path = 'dataset'\n",
    "if not os.path.exists(ds_path):\n",
    "    os.makedirs(ds_path)\n",
    "    \n",
    "# Campi dei metadati da estrarre\n",
    "col = ['filename', 'CU:', 'SR:', 'CS:']\n",
    "metadata_df = pd.DataFrame(columns=col)"
   ]
  },
  {
   "cell_type": "code",
   "execution_count": null,
   "id": "2eb06929",
   "metadata": {},
   "outputs": [],
   "source": [
    "#  Funzione per l'estrazione dei metadati\n",
    "def retrieve_metadata(folder_path, base_url):\n",
    "    ret_list = []\n",
    "    for f in os.listdir(folder_path):\n",
    "        fn = f.split('.')[0]\n",
    "        curr_dict = {}\n",
    "        curr_url = base_url + fn\n",
    "        curr_dict['filename'] = fn\n",
    "        curr_dict['species'] = f\n",
    "\n",
    "        # Richiesta html e parsing della tabella\n",
    "        html = requests.get(curr_url)\n",
    "        soup = BeautifulSoup(html.content, 'html.parser')\n",
    "        rows = soup.find_all('tr')\n",
    "\n",
    "        # Estrazione dei dati dalla tabella\n",
    "        campi_desiderati = col[1:]\n",
    "        for row in rows:\n",
    "            celle = row.find_all('td')\n",
    "            if len(celle) == 2:\n",
    "                chiave = celle[0].get_text(strip=True)\n",
    "                valore = celle[1].get_text(strip=True)\n",
    "                if chiave in campi_desiderati:\n",
    "                    curr_dict[chiave] = valore\n",
    "        ret_list.append(curr_dict)\n",
    "\n",
    "    return ret_list\n"
   ]
  },
  {
   "cell_type": "code",
   "execution_count": null,
   "id": "2441531a",
   "metadata": {},
   "outputs": [],
   "source": [
    "# Salvataggio dei metadati di tutte le specie in un unico file csv\n",
    "for folder in os.listdir('dataset'):\n",
    "    folder_dict = retrieve_metadata(Path(ds_path, folder), base_url)\n",
    "    metadata_df = pd.concat([metadata_df, pd.DataFrame.from_records(folder_dict)], ignore_index=True)\n",
    "metadata_df.to_csv('metadata.csv', index=False)\n"
   ]
  }
 ],
 "metadata": {
  "kernelspec": {
   "display_name": ".scraping_venv",
   "language": "python",
   "name": "python3"
  },
  "language_info": {
   "codemirror_mode": {
    "name": "ipython",
    "version": 3
   },
   "file_extension": ".py",
   "mimetype": "text/x-python",
   "name": "python",
   "nbconvert_exporter": "python",
   "pygments_lexer": "ipython3",
   "version": "3.13.3"
  }
 },
 "nbformat": 4,
 "nbformat_minor": 5
}
